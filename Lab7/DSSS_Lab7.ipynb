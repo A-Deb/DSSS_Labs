{
 "cells": [
  {
   "cell_type": "markdown",
   "metadata": {},
   "source": [
    "# Import dependencies"
   ]
  },
  {
   "cell_type": "code",
   "execution_count": 6,
   "metadata": {
    "collapsed": true
   },
   "outputs": [],
   "source": [
    "import pandas as pd\n",
    "import numpy as np\n",
    "import json\n",
    "import io\n",
    "import datetime as dt\n",
    "import string\n",
    "import unicodedata\n",
    "\n",
    "import nltk\n",
    "from nltk.tokenize.toktok import ToktokTokenizer\n",
    "tokenizer = ToktokTokenizer()\n",
    "stopword_list = nltk.corpus.stopwords.words('english')\n",
    "\n",
    "import spacy\n",
    "import en_core_web_sm\n",
    "# pip install https://github.com/explosion/spacy-models/releases/download/en_core_web_sm-2.0.0/en_core_web_sm-2.0.0.tar.gz\n",
    "nlp = en_core_web_sm.load()\n",
    "# nlp = spacy.load('en_core', parse=True, tag=True, entity=True)\n",
    "\n",
    "import re\n",
    "from bs4 import BeautifulSoup\n",
    "\n",
    "\n",
    "from gensim import corpora, models, similarities\n",
    "\n",
    "import matplotlib.pyplot as plt\n",
    "#nlp_vec = spacy.load('en_vecs', parse = True, tag=True, #entity=True)"
   ]
  },
  {
   "cell_type": "markdown",
   "metadata": {},
   "source": [
    "# Read in data"
   ]
  },
  {
   "cell_type": "code",
   "execution_count": 7,
   "metadata": {},
   "outputs": [
    {
     "name": "stdout",
     "output_type": "stream",
     "text": [
      "Number of observations are: 14640\n"
     ]
    }
   ],
   "source": [
    "#create dataframe from input data; identify the column with the tweet text\n",
    "tweets=pd.read_csv('Tweets.csv')\n",
    "print('Number of observations are: '+str(len(tweets)))"
   ]
  },
  {
   "cell_type": "code",
   "execution_count": 8,
   "metadata": {},
   "outputs": [
    {
     "name": "stdout",
     "output_type": "stream",
     "text": [
      "Number of observations are: 14640\n"
     ]
    }
   ],
   "source": [
    "#remove any rows that has no tweet text\n",
    "df=tweets.text.dropna()\n",
    "df = df.reset_index(drop=True)\n",
    "print('Number of observations are: '+str(len(df)))"
   ]
  },
  {
   "cell_type": "code",
   "execution_count": 9,
   "metadata": {},
   "outputs": [
    {
     "name": "stdout",
     "output_type": "stream",
     "text": [
      "@virginamerica plus you've added commercials to the experience... tacky.\n"
     ]
    }
   ],
   "source": [
    "#Create dictionary of all tweets\n",
    "tweet_dictionary = {}\n",
    "i = 0\n",
    "for line in df:\n",
    "        tweet_dictionary[i] = line.lower()\n",
    "        i += 1\n",
    "print(tweet_dictionary[1])"
   ]
  },
  {
   "cell_type": "markdown",
   "metadata": {},
   "source": [
    "# Data Preprocessing for Sentiment Analysis"
   ]
  },
  {
   "cell_type": "markdown",
   "metadata": {
    "collapsed": true
   },
   "source": [
    "Remove HTML Links"
   ]
  },
  {
   "cell_type": "code",
   "execution_count": 10,
   "metadata": {
    "collapsed": true
   },
   "outputs": [],
   "source": [
    "def strip_links(text):\n",
    "    link_regex    = re.compile('((https?):((//)|(\\\\\\\\))+([\\w\\d:#@%/;$()~_?\\+-=\\\\\\.&](#!)?)*)', re.DOTALL)\n",
    "    links         = re.findall(link_regex, text)\n",
    "    for link in links:\n",
    "        text = text.replace(link[0], ', ')    \n",
    "    return text"
   ]
  },
  {
   "cell_type": "code",
   "execution_count": 11,
   "metadata": {
    "collapsed": true
   },
   "outputs": [],
   "source": [
    "for i in range(0,len(tweet_dictionary)):\n",
    "    tweet_dictionary[i]=strip_links(tweet_dictionary[i])"
   ]
  },
  {
   "cell_type": "markdown",
   "metadata": {},
   "source": [
    "Expand contractions"
   ]
  },
  {
   "cell_type": "code",
   "execution_count": 12,
   "metadata": {
    "collapsed": true
   },
   "outputs": [],
   "source": [
    "#code source is http://stackoverflow.com/questions/19790188/expanding-english-language-contractions-in-python\n",
    "\n",
    "import re\n",
    "cList = {\n",
    "  \"ain't\": \"am not\",\n",
    "  \"aren't\": \"are not\",\n",
    "  \"can't\": \"cannot\",\n",
    "  \"can't've\": \"cannot have\",\n",
    "  \"'cause\": \"because\",\n",
    "  \"could've\": \"could have\",\n",
    "  \"couldn't\": \"could not\",\n",
    "  \"couldn't've\": \"could not have\",\n",
    "  \"didn't\": \"did not\",\n",
    "  \"doesn't\": \"does not\",\n",
    "  \"don't\": \"do not\",\n",
    "  \"hadn't\": \"had not\",\n",
    "  \"hadn't've\": \"had not have\",\n",
    "  \"hasn't\": \"has not\",\n",
    "  \"haven't\": \"have not\",\n",
    "  \"he'd\": \"he would\",\n",
    "  \"he'd've\": \"he would have\",\n",
    "  \"he'll\": \"he will\",\n",
    "  \"he'll've\": \"he will have\",\n",
    "  \"he's\": \"he is\",\n",
    "  \"how'd\": \"how did\",\n",
    "  \"how'd'y\": \"how do you\",\n",
    "  \"how'll\": \"how will\",\n",
    "  \"how's\": \"how is\",\n",
    "  \"I'd\": \"I would\",\n",
    "  \"I'd've\": \"I would have\",\n",
    "  \"I'll\": \"I will\",\n",
    "  \"I'll've\": \"I will have\",\n",
    "  \"i'm\": \"i am\",\n",
    "  \"I've\": \"I have\",\n",
    "  \"isn't\": \"is not\",\n",
    "  \"it'd\": \"it had\",\n",
    "  \"it'd've\": \"it would have\",\n",
    "  \"it'll\": \"it will\",\n",
    "  \"it'll've\": \"it will have\",\n",
    "  \"it's\": \"it is\",\n",
    "  \"let's\": \"let us\",\n",
    "  \"ma'am\": \"madam\",\n",
    "  \"mayn't\": \"may not\",\n",
    "  \"might've\": \"might have\",\n",
    "  \"mightn't\": \"might not\",\n",
    "  \"mightn't've\": \"might not have\",\n",
    "  \"must've\": \"must have\",\n",
    "  \"mustn't\": \"must not\",\n",
    "  \"mustn't've\": \"must not have\",\n",
    "  \"needn't\": \"need not\",\n",
    "  \"needn't've\": \"need not have\",\n",
    "  \"o'clock\": \"of the clock\",\n",
    "  \"oughtn't\": \"ought not\",\n",
    "  \"oughtn't've\": \"ought not have\",\n",
    "  \"shan't\": \"shall not\",\n",
    "  \"sha'n't\": \"shall not\",\n",
    "  \"shan't've\": \"shall not have\",\n",
    "  \"she'd\": \"she would\",\n",
    "  \"she'd've\": \"she would have\",\n",
    "  \"she'll\": \"she will\",\n",
    "  \"she'll've\": \"she will have\",\n",
    "  \"she's\": \"she is\",\n",
    "  \"should've\": \"should have\",\n",
    "  \"shouldn't\": \"should not\",\n",
    "  \"shouldn't've\": \"should not have\",\n",
    "  \"so've\": \"so have\",\n",
    "  \"so's\": \"so is\",\n",
    "  \"that'd\": \"that would\",\n",
    "  \"that'd've\": \"that would have\",\n",
    "  \"that's\": \"that is\",\n",
    "  \"there'd\": \"there had\",\n",
    "  \"there'd've\": \"there would have\",\n",
    "  \"there's\": \"there is\",\n",
    "  \"they'd\": \"they would\",\n",
    "  \"they'd've\": \"they would have\",\n",
    "  \"they'll\": \"they will\",\n",
    "  \"they'll've\": \"they will have\",\n",
    "  \"they're\": \"they are\",\n",
    "  \"they've\": \"they have\",\n",
    "  \"to've\": \"to have\",\n",
    "  \"wasn't\": \"was not\",\n",
    "  \"we'd\": \"we had\",\n",
    "  \"we'd've\": \"we would have\",\n",
    "  \"we'll\": \"we will\",\n",
    "  \"we'll've\": \"we will have\",\n",
    "  \"we're\": \"we are\",\n",
    "  \"we've\": \"we have\",\n",
    "  \"weren't\": \"were not\",\n",
    "  \"what'll\": \"what will\",\n",
    "  \"what'll've\": \"what will have\",\n",
    "  \"what're\": \"what are\",\n",
    "  \"what's\": \"what is\",\n",
    "  \"what've\": \"what have\",\n",
    "  \"when's\": \"when is\",\n",
    "  \"when've\": \"when have\",\n",
    "  \"where'd\": \"where did\",\n",
    "  \"where's\": \"where is\",\n",
    "  \"where've\": \"where have\",\n",
    "  \"who'll\": \"who will\",\n",
    "  \"who'll've\": \"who will have\",\n",
    "  \"who's\": \"who is\",\n",
    "  \"who've\": \"who have\",\n",
    "  \"why's\": \"why is\",\n",
    "  \"why've\": \"why have\",\n",
    "  \"will've\": \"will have\",\n",
    "  \"won't\": \"will not\",\n",
    "  \"won't've\": \"will not have\",\n",
    "  \"would've\": \"would have\",\n",
    "  \"wouldn't\": \"would not\",\n",
    "  \"wouldn't've\": \"would not have\",\n",
    "  \"y'all\": \"you all\",\n",
    "  \"y'alls\": \"you alls\",\n",
    "  \"y'all'd\": \"you all would\",\n",
    "  \"y'all'd've\": \"you all would have\",\n",
    "  \"y'all're\": \"you all are\",\n",
    "  \"y'all've\": \"you all have\",\n",
    "  \"you'd\": \"you had\",\n",
    "  \"you'd've\": \"you would have\",\n",
    "  \"you'll\": \"you will\",\n",
    "  \"you'll've\": \"you will have\",\n",
    "  \"you're\": \"you are\",\n",
    "  \"you've\": \"you have\"\n",
    "}\n",
    "\n",
    "c_re = re.compile('(%s)' % '|'.join(cList.keys()))\n",
    "\n",
    "def expandContractions(text, c_re=c_re):\n",
    "    def replace(match):\n",
    "        return cList[match.group(0)]\n",
    "    text = c_re.sub(replace, text.lower())\n",
    "    return text"
   ]
  },
  {
   "cell_type": "code",
   "execution_count": 13,
   "metadata": {
    "collapsed": true
   },
   "outputs": [],
   "source": [
    "for i in range(0,len(tweet_dictionary)):\n",
    "    tweet_dictionary[i]=expandContractions(tweet_dictionary[i])\n"
   ]
  },
  {
   "cell_type": "markdown",
   "metadata": {
    "collapsed": true
   },
   "source": [
    "Remove mentions"
   ]
  },
  {
   "cell_type": "code",
   "execution_count": 14,
   "metadata": {
    "collapsed": true
   },
   "outputs": [],
   "source": [
    "def strip_mentions(text):\n",
    "    entity_prefixes = ['@']\n",
    "    for separator in  string.punctuation:\n",
    "        if separator not in entity_prefixes :\n",
    "            text = text.replace(separator,' ')\n",
    "    words = []\n",
    "    for word in text.split():\n",
    "        word = word.strip()\n",
    "        if word:\n",
    "            if word[0] not in entity_prefixes:\n",
    "                words.append(word)\n",
    "    return ' '.join(words)"
   ]
  },
  {
   "cell_type": "code",
   "execution_count": 15,
   "metadata": {
    "collapsed": true
   },
   "outputs": [],
   "source": [
    "for i in range(0,len(tweet_dictionary)):\n",
    "    tweet_dictionary[i]=strip_mentions(tweet_dictionary[i])"
   ]
  },
  {
   "cell_type": "markdown",
   "metadata": {},
   "source": [
    "Remove hashtags"
   ]
  },
  {
   "cell_type": "code",
   "execution_count": 16,
   "metadata": {
    "collapsed": true
   },
   "outputs": [],
   "source": [
    "def strip_hashtags(text):\n",
    "    entity_prefixes = ['#']\n",
    "    for separator in  string.punctuation:\n",
    "        if separator not in entity_prefixes :\n",
    "            text = text.replace(separator,' ')\n",
    "    words = []\n",
    "    for word in text.split():\n",
    "        word = word.strip()\n",
    "        if word:\n",
    "            if word[0] not in entity_prefixes:\n",
    "                words.append(word)\n",
    "    return ' '.join(words)"
   ]
  },
  {
   "cell_type": "code",
   "execution_count": 17,
   "metadata": {
    "collapsed": true
   },
   "outputs": [],
   "source": [
    "for i in range(0,len(tweet_dictionary)):\n",
    "    tweet_dictionary[i]=strip_hashtags(tweet_dictionary[i])"
   ]
  },
  {
   "cell_type": "markdown",
   "metadata": {},
   "source": [
    "Remove retweet (RT) designation"
   ]
  },
  {
   "cell_type": "code",
   "execution_count": 18,
   "metadata": {
    "collapsed": true
   },
   "outputs": [],
   "source": [
    "for i in range(0,len(df)):\n",
    "    tweet_dictionary[i] = tweet_dictionary[i].replace('RT', '')"
   ]
  },
  {
   "cell_type": "code",
   "execution_count": 19,
   "metadata": {
    "collapsed": true
   },
   "outputs": [],
   "source": [
    "def remove_special_characters(text, remove_digits=False):\n",
    "    pattern = r'[^a-zA-z0-9\\s]' if not remove_digits else r'[^a-zA-z\\s]'\n",
    "    text = re.sub(pattern, '', text)\n",
    "    text = unicodedata.normalize('NFKD', text).encode('ascii', 'ignore').decode('utf-8', 'ignore')\n",
    "    return text"
   ]
  },
  {
   "cell_type": "code",
   "execution_count": 20,
   "metadata": {
    "collapsed": true
   },
   "outputs": [],
   "source": [
    "for i in range(0,len(tweet_dictionary)):\n",
    "    tweet_dictionary[i]=remove_special_characters(tweet_dictionary[i], \n",
    "                          remove_digits=True)"
   ]
  },
  {
   "cell_type": "markdown",
   "metadata": {},
   "source": [
    "# Sentiment"
   ]
  },
  {
   "cell_type": "markdown",
   "metadata": {},
   "source": [
    "Example using Vader, try to make the most positive or most negative sentence"
   ]
  },
  {
   "cell_type": "code",
   "execution_count": 21,
   "metadata": {
    "collapsed": true
   },
   "outputs": [],
   "source": [
    "#find sentiment using VADER\n",
    "from vaderSentiment.vaderSentiment import SentimentIntensityAnalyzer\n",
    "analyser = SentimentIntensityAnalyzer()"
   ]
  },
  {
   "cell_type": "code",
   "execution_count": 22,
   "metadata": {},
   "outputs": [
    {
     "name": "stdout",
     "output_type": "stream",
     "text": [
      "{'neg': 0.0, 'neu': 0.422, 'pos': 0.578, 'compound': 0.6674}\n"
     ]
    }
   ],
   "source": [
    "snt = analyser.polarity_scores('What is your most positive sentence')\n",
    "print(snt)"
   ]
  },
  {
   "cell_type": "markdown",
   "metadata": {},
   "source": [
    "Analysis on Tweet.csv data set using VADER"
   ]
  },
  {
   "cell_type": "code",
   "execution_count": 23,
   "metadata": {
    "collapsed": true
   },
   "outputs": [],
   "source": [
    "for i in tweets.index:\n",
    "    snt = analyser.polarity_scores(tweet_dictionary[i])\n",
    "    tweets.at[i,'vader_comp'] = snt['compound']\n",
    "    tweets.at[i,'vader_pos'] = snt['pos']\n",
    "    tweets.at[i,'vader_neu'] = snt['neu']\n",
    "    tweets.at[i,'vader_neg'] = snt['neg']"
   ]
  },
  {
   "cell_type": "code",
   "execution_count": 24,
   "metadata": {},
   "outputs": [
    {
     "name": "stdout",
     "output_type": "stream",
     "text": [
      "According to VADER, there are 14640 tweets, of which 2373 are positive and 11676 are negative while 591 tweets are neutral\n"
     ]
    }
   ],
   "source": [
    "num_tweets= len(tweets)\n",
    "vad_num_pos= len(tweets[tweets['vader_comp']>.55])\n",
    "vad_num_neg= len(tweets[tweets['vader_comp']<.45])\n",
    "vad_num_neu= len(tweets[(tweets['vader_comp']<.55) & (tweets['vader_comp']>.45)])\n",
    "\n",
    "print('According to VADER, there are %d tweets, of which %d are positive and %d are negative while %d tweets are neutral' \n",
    "      %(num_tweets,vad_num_pos,vad_num_neg,vad_num_neu))"
   ]
  },
  {
   "cell_type": "code",
   "execution_count": 25,
   "metadata": {},
   "outputs": [
    {
     "data": {
      "image/png": "[encoded data removed]",
      "text/plain": [
       "<matplotlib.figure.Figure at 0x11bcc7160>"
      ]
     },
     "metadata": {},
     "output_type": "display_data"
    }
   ],
   "source": [
    "import matplotlib.pyplot as plt\n",
    "# Pie chart\n",
    "labels = ['postive','negative','neutral']\n",
    "sizes = [vad_num_pos,vad_num_neg,vad_num_neu]\n",
    "colors = ['#99ff99','#ff9999','#66b3ff']\n",
    "explode = (0.05,0.05,0.05)\n",
    "plt.pie(sizes, colors = colors, labels=labels, autopct='%1.1f%%', startangle=80, pctdistance=.9, explode = explode,textprops={'fontsize': 12})\n",
    "#draw circle\n",
    "centre_circle = plt.Circle((0,0),0.55,fc='white')\n",
    "fig = plt.gcf()\n",
    "fig.gca().add_artist(centre_circle)\n",
    "# Equal aspect ratio ensures that pie is drawn as a circle\n",
    "plt.title('Tweet Sentiment - VADER', size = 20)\n",
    "plt.axis('equal')  \n",
    "\n",
    "plt.show()"
   ]
  },
  {
   "cell_type": "markdown",
   "metadata": {},
   "source": [
    "Analysis on Tweet.csv data set using SentiStrength"
   ]
  },
  {
   "cell_type": "code",
   "execution_count": 26,
   "metadata": {},
   "outputs": [
    {
     "data": {
      "text/plain": [
       "['Finished! Results in: ./tweet_sentiment0_out.txt']"
      ]
     },
     "execution_count": 26,
     "metadata": {},
     "output_type": "execute_result"
    }
   ],
   "source": [
    "#write preprocessed tweets to text file for SentiStrength\n",
    "pd.DataFrame(list(tweet_dictionary.values())).to_csv('tweet_sentiment.txt', header=None, index=False)\n",
    "\n",
    "#execute SentiStrength using shell execute %system or !!\n",
    "!!java -jar SentiStrength.jar sentidata ./SentiStrength/data/ input ./tweet_sentiment.txt"
   ]
  },
  {
   "cell_type": "code",
   "execution_count": 27,
   "metadata": {
    "collapsed": true
   },
   "outputs": [],
   "source": [
    "#SentiStrength gives a positive score between +1 and +4 and a negative score between -1 and -4\n",
    "#read in the SentiStrength results\n",
    "ssresults=pd.read_csv('tweet_sentiment0_out.txt', delimiter=\"\\t\") \n",
    "# ssresults\n",
    "\n",
    "#We add these two columns to our orginal dataframe\n",
    "\n",
    "tweets['ss_pos']=ssresults['Positive']\n",
    "\n",
    "tweets['ss_neg']=ssresults['Negative']\n",
    "\n",
    "#We create a third column for the compound score by Pos - Neg\n",
    "tweets['ss_comp']=tweets['ss_pos']+tweets['ss_neg']"
   ]
  },
  {
   "cell_type": "code",
   "execution_count": 28,
   "metadata": {},
   "outputs": [
    {
     "name": "stdout",
     "output_type": "stream",
     "text": [
      "According to SentiStrength, there are 14640 tweets, of which 4349 are positive and 3026 are negative while 7265 tweets are neutral\n"
     ]
    }
   ],
   "source": [
    "ss_num_pos= len(tweets[tweets['ss_comp']>0])\n",
    "ss_num_neg= len(tweets[tweets['ss_comp']<0])\n",
    "ss_num_neu= len(tweets[(tweets['ss_comp']==0)])\n",
    "\n",
    "print('According to SentiStrength, there are %d tweets, of which %d are positive and %d are negative while %d tweets are neutral' \n",
    "      %(num_tweets,ss_num_pos,ss_num_neg,ss_num_neu))"
   ]
  },
  {
   "cell_type": "code",
   "execution_count": 29,
   "metadata": {},
   "outputs": [
    {
     "data": {
      "image/png": "[encoded data removed]",
      "text/plain": [
       "<matplotlib.figure.Figure at 0x11da09fd0>"
      ]
     },
     "metadata": {},
     "output_type": "display_data"
    }
   ],
   "source": [
    "import matplotlib.pyplot as plt\n",
    "# Pie chart\n",
    "labels = ['postive','negative','neutral']\n",
    "sizes = [ss_num_pos,ss_num_neg,ss_num_neu]\n",
    "colors = ['#99ff99','#ff9999','#66b3ff']\n",
    "explode = (0.05,0.05,0.05)\n",
    "plt.pie(sizes, colors = colors, labels=labels, autopct='%1.1f%%', startangle=80, pctdistance=.9, explode = explode,textprops={'fontsize': 12})\n",
    "#draw circle\n",
    "centre_circle = plt.Circle((0,0),0.55,fc='white')\n",
    "fig = plt.gcf()\n",
    "fig.gca().add_artist(centre_circle)\n",
    "# Equal aspect ratio ensures that pie is drawn as a circle\n",
    "plt.title('Tweet Sentiment - SentiStrength', size = 20)\n",
    "plt.axis('equal')  \n",
    "\n",
    "plt.show()"
   ]
  },
  {
   "cell_type": "markdown",
   "metadata": {},
   "source": [
    "Distribution from the orginal dataset"
   ]
  },
  {
   "cell_type": "code",
   "execution_count": 30,
   "metadata": {},
   "outputs": [
    {
     "name": "stdout",
     "output_type": "stream",
     "text": [
      "According to the orginal dataset, there are 14640 tweets, of which 2363 are positive and 9178 are negative while 3099 tweets are neutral\n"
     ]
    }
   ],
   "source": [
    "org_num_pos= len(tweets[tweets['airline_sentiment']=='positive'])\n",
    "org_num_neg= len(tweets[tweets['airline_sentiment']=='negative'])\n",
    "org_num_neu= len(tweets[tweets['airline_sentiment']=='neutral'])\n",
    "\n",
    "print('According to the orginal dataset, there are %d tweets, of which %d are positive and %d are negative while %d tweets are neutral' \n",
    "      %(num_tweets,org_num_pos,org_num_neg,org_num_neu))"
   ]
  },
  {
   "cell_type": "code",
   "execution_count": 31,
   "metadata": {},
   "outputs": [
    {
     "data": {
      "image/png": "[encoded data removed]",
      "text/plain": [
       "<matplotlib.figure.Figure at 0x11ed5d860>"
      ]
     },
     "metadata": {},
     "output_type": "display_data"
    }
   ],
   "source": [
    "import matplotlib.pyplot as plt\n",
    "# Pie chart\n",
    "labels = ['postive','negative','neutral']\n",
    "sizes = [org_num_pos,org_num_neg,org_num_neu]\n",
    "colors = ['#99ff99','#ff9999','#66b3ff']\n",
    "explode = (0.05,0.05,0.05)\n",
    "plt.pie(sizes, colors = colors, labels=labels, autopct='%1.1f%%', startangle=80, pctdistance=.9, explode = explode,textprops={'fontsize': 12})\n",
    "#draw circle\n",
    "centre_circle = plt.Circle((0,0),0.55,fc='white')\n",
    "fig = plt.gcf()\n",
    "fig.gca().add_artist(centre_circle)\n",
    "# Equal aspect ratio ensures that pie is drawn as a circle\n",
    "plt.title('Tweet Sentiment - Original', size = 20)\n",
    "plt.axis('equal')  \n",
    "\n",
    "plt.show()"
   ]
  },
  {
   "cell_type": "markdown",
   "metadata": {},
   "source": [
    "Investigate why there are differences"
   ]
  },
  {
   "cell_type": "code",
   "execution_count": 32,
   "metadata": {},
   "outputs": [
    {
     "data": {
      "text/html": [
       "<div>\n",
       "<style scoped>\n",
       "    .dataframe tbody tr th:only-of-type {\n",
       "        vertical-align: middle;\n",
       "    }\n",
       "\n",
       "    .dataframe tbody tr th {\n",
       "        vertical-align: top;\n",
       "    }\n",
       "\n",
       "    .dataframe thead th {\n",
       "        text-align: right;\n",
       "    }\n",
       "</style>\n",
       "<table border=\"1\" class=\"dataframe\">\n",
       "  <thead>\n",
       "    <tr style=\"text-align: right;\">\n",
       "      <th></th>\n",
       "      <th>text</th>\n",
       "      <th>vader_comp</th>\n",
       "      <th>ss_comp</th>\n",
       "    </tr>\n",
       "  </thead>\n",
       "  <tbody>\n",
       "    <tr>\n",
       "      <th>1</th>\n",
       "      <td>@VirginAmerica plus you've added commercials to the experience... tacky.</td>\n",
       "      <td>0.0000</td>\n",
       "      <td>0</td>\n",
       "    </tr>\n",
       "    <tr>\n",
       "      <th>6</th>\n",
       "      <td>@VirginAmerica yes, nearly every time I fly VX this “ear worm” won’t go away :)</td>\n",
       "      <td>0.4019</td>\n",
       "      <td>0</td>\n",
       "    </tr>\n",
       "    <tr>\n",
       "      <th>8</th>\n",
       "      <td>@virginamerica Well, I didn't…but NOW I DO! :-D</td>\n",
       "      <td>0.2732</td>\n",
       "      <td>1</td>\n",
       "    </tr>\n",
       "    <tr>\n",
       "      <th>13</th>\n",
       "      <td>@VirginAmerica @virginmedia I'm flying your #fabulous #Seductive skies again! U take all the #stress away from travel http://t.co/ahlXHhKiyn</td>\n",
       "      <td>0.1531</td>\n",
       "      <td>1</td>\n",
       "    </tr>\n",
       "    <tr>\n",
       "      <th>14</th>\n",
       "      <td>@VirginAmerica Thanks!</td>\n",
       "      <td>0.4404</td>\n",
       "      <td>1</td>\n",
       "    </tr>\n",
       "    <tr>\n",
       "      <th>18</th>\n",
       "      <td>I ❤️ flying @VirginAmerica. ☺️👍</td>\n",
       "      <td>0.0000</td>\n",
       "      <td>0</td>\n",
       "    </tr>\n",
       "    <tr>\n",
       "      <th>40</th>\n",
       "      <td>@VirginAmerica View of downtown Los Angeles, the Hollywood Sign, and beyond that rain in the mountains! http://t.co/Dw5nf0ibtr</td>\n",
       "      <td>0.0000</td>\n",
       "      <td>0</td>\n",
       "    </tr>\n",
       "    <tr>\n",
       "      <th>45</th>\n",
       "      <td>@VirginAmerica I'm #elevategold for a good reason: you rock!!</td>\n",
       "      <td>0.4404</td>\n",
       "      <td>1</td>\n",
       "    </tr>\n",
       "    <tr>\n",
       "      <th>56</th>\n",
       "      <td>@VirginAmerica you know it. Need it on my spotify stat #guiltypleasures</td>\n",
       "      <td>0.0000</td>\n",
       "      <td>-3</td>\n",
       "    </tr>\n",
       "    <tr>\n",
       "      <th>81</th>\n",
       "      <td>@VirginAmerica I've applied more then once to be a member of the #inflight crew team...Im 100% interested. #flightattendant #dreampath -G</td>\n",
       "      <td>0.4019</td>\n",
       "      <td>1</td>\n",
       "    </tr>\n",
       "    <tr>\n",
       "      <th>109</th>\n",
       "      <td>@VirginAmerica has getaway deals through May, from $59 one-way. Lots of cool cities http://t.co/tZZJhuIbCH #CheapFlights #FareCompare</td>\n",
       "      <td>0.3182</td>\n",
       "      <td>1</td>\n",
       "    </tr>\n",
       "    <tr>\n",
       "      <th>111</th>\n",
       "      <td>@VirginAmerica has getaway deals through May, from $59 one-way. Lots of cool cities http://t.co/B2Xi4YG5T8 #CheapFlights #FareCompare</td>\n",
       "      <td>0.3182</td>\n",
       "      <td>1</td>\n",
       "    </tr>\n",
       "    <tr>\n",
       "      <th>114</th>\n",
       "      <td>@VirginAmerica come back to #PHL already. We need you to take us out of this horrible cold. #pleasecomeback http://t.co/gLXFwP6nQH</td>\n",
       "      <td>-0.6280</td>\n",
       "      <td>-2</td>\n",
       "    </tr>\n",
       "    <tr>\n",
       "      <th>136</th>\n",
       "      <td>@virginamerica you ROCK for making it so I can watch #Oscars on my flight!! #redcarpet #oscars #oscars2015</td>\n",
       "      <td>0.0000</td>\n",
       "      <td>1</td>\n",
       "    </tr>\n",
       "    <tr>\n",
       "      <th>148</th>\n",
       "      <td>@virginamerica #flight home to #dc #sunset #globe in' #backtowinter back to #work! #refreshed http://t.co/VX9vBCTdLf</td>\n",
       "      <td>0.0000</td>\n",
       "      <td>0</td>\n",
       "    </tr>\n",
       "    <tr>\n",
       "      <th>176</th>\n",
       "      <td>@VirginAmerica Thank you for the follow</td>\n",
       "      <td>0.3612</td>\n",
       "      <td>1</td>\n",
       "    </tr>\n",
       "    <tr>\n",
       "      <th>183</th>\n",
       "      <td>😎 RT @VirginAmerica: You’ve met your match. Got status on another airline? Upgrade (+restr): http://t.co/RHKaMx9VF5. http://t.co/PYalebgkJt</td>\n",
       "      <td>0.0000</td>\n",
       "      <td>0</td>\n",
       "    </tr>\n",
       "    <tr>\n",
       "      <th>184</th>\n",
       "      <td>@VirginAmerica Only way to fly! #Elevate #Gold</td>\n",
       "      <td>0.0000</td>\n",
       "      <td>0</td>\n",
       "    </tr>\n",
       "    <tr>\n",
       "      <th>189</th>\n",
       "      <td>@VirginAmerica you will match my #AmericanAirlines status? Cool!</td>\n",
       "      <td>0.3182</td>\n",
       "      <td>1</td>\n",
       "    </tr>\n",
       "    <tr>\n",
       "      <th>193</th>\n",
       "      <td>@VirginAmerica thanks!</td>\n",
       "      <td>0.4404</td>\n",
       "      <td>1</td>\n",
       "    </tr>\n",
       "    <tr>\n",
       "      <th>201</th>\n",
       "      <td>@VirginAmerica done! Thank you for the quick response, apparently faster than sitting on hold ;)</td>\n",
       "      <td>0.3612</td>\n",
       "      <td>1</td>\n",
       "    </tr>\n",
       "    <tr>\n",
       "      <th>203</th>\n",
       "      <td>@VirginAmerica cool picture of another VirginAmerica plane off our wing. What a site! http://t.co/5B2agFd8c4</td>\n",
       "      <td>0.3182</td>\n",
       "      <td>1</td>\n",
       "    </tr>\n",
       "    <tr>\n",
       "      <th>205</th>\n",
       "      <td>@VirginAmerica my goodness your people @love field are amazing under pressure ❤️from Texas #beatstheothers in crisis Please fly me to NY</td>\n",
       "      <td>0.4215</td>\n",
       "      <td>1</td>\n",
       "    </tr>\n",
       "    <tr>\n",
       "      <th>212</th>\n",
       "      <td>@VirginAmerica twitter team. you guys killed it for rescheduling me asap. thank you!</td>\n",
       "      <td>-0.4588</td>\n",
       "      <td>-2</td>\n",
       "    </tr>\n",
       "    <tr>\n",
       "      <th>227</th>\n",
       "      <td>@VirginAmerica Like http://t.co/VPqEm31XUQ</td>\n",
       "      <td>0.3612</td>\n",
       "      <td>1</td>\n",
       "    </tr>\n",
       "    <tr>\n",
       "      <th>231</th>\n",
       "      <td>@VirginAmerica thanks so much!</td>\n",
       "      <td>0.4404</td>\n",
       "      <td>1</td>\n",
       "    </tr>\n",
       "    <tr>\n",
       "      <th>233</th>\n",
       "      <td>@VirginAmerica, the only airline based in Silicon Valley! #disruption #FCmostinnovative #incubator  @FastCompany's http://t.co/wU3LbCNcr9</td>\n",
       "      <td>-0.3612</td>\n",
       "      <td>0</td>\n",
       "    </tr>\n",
       "    <tr>\n",
       "      <th>235</th>\n",
       "      <td>@VirginAmerica I’m looking forward to watching the Oscars on my flight home tomorrow. I might even get something bubbly to drink! ;)</td>\n",
       "      <td>0.0000</td>\n",
       "      <td>0</td>\n",
       "    </tr>\n",
       "    <tr>\n",
       "      <th>269</th>\n",
       "      <td>@VirginAmerica I see what you did there ;)</td>\n",
       "      <td>0.0000</td>\n",
       "      <td>0</td>\n",
       "    </tr>\n",
       "    <tr>\n",
       "      <th>273</th>\n",
       "      <td>@VirginAmerica cutest salt and pepper shaker ever. Just when I think you guys can't get any better you just do! http://t.co/vC6Keulg2J</td>\n",
       "      <td>0.3387</td>\n",
       "      <td>0</td>\n",
       "    </tr>\n",
       "    <tr>\n",
       "      <th>...</th>\n",
       "      <td>...</td>\n",
       "      <td>...</td>\n",
       "      <td>...</td>\n",
       "    </tr>\n",
       "    <tr>\n",
       "      <th>13785</th>\n",
       "      <td>@AmericanAir Got my bags this morning! Thanks!</td>\n",
       "      <td>0.4404</td>\n",
       "      <td>1</td>\n",
       "    </tr>\n",
       "    <tr>\n",
       "      <th>13805</th>\n",
       "      <td>@AmericanAir we made it so no worries... You guys did good tonight and even put @ESPN_CoachMack on my flight #firstclass</td>\n",
       "      <td>-0.4669</td>\n",
       "      <td>-3</td>\n",
       "    </tr>\n",
       "    <tr>\n",
       "      <th>13827</th>\n",
       "      <td>@AmericanAir You have a lot on your pLate Flight dealing with Cancelled Flightlations and weather tonite. Those are more important. I know you will respond.</td>\n",
       "      <td>0.0240</td>\n",
       "      <td>0</td>\n",
       "    </tr>\n",
       "    <tr>\n",
       "      <th>13855</th>\n",
       "      <td>@AmericanAir Didn't really need anything. Saw your mentions are often negative. Keep up the good work. #gratitude  🇺🇸✈️</td>\n",
       "      <td>0.3612</td>\n",
       "      <td>1</td>\n",
       "    </tr>\n",
       "    <tr>\n",
       "      <th>13856</th>\n",
       "      <td>@AmericanAir #AmericanView Sweet Home Chicago http://t.co/J6icLV8DTs</td>\n",
       "      <td>0.4588</td>\n",
       "      <td>1</td>\n",
       "    </tr>\n",
       "    <tr>\n",
       "      <th>13942</th>\n",
       "      <td>@AmericanAir thank you for the update!</td>\n",
       "      <td>0.3612</td>\n",
       "      <td>1</td>\n",
       "    </tr>\n",
       "    <tr>\n",
       "      <th>13962</th>\n",
       "      <td>@AmericanAir Shout-out to all the ground crews working in the cold! Thanks for what y'all do. (&amp;amp; social media team for customer service)</td>\n",
       "      <td>0.4404</td>\n",
       "      <td>1</td>\n",
       "    </tr>\n",
       "    <tr>\n",
       "      <th>13963</th>\n",
       "      <td>@AmericanAir I fortunately was not on that flight - just in the same waiting area / impressed w how he handled the stressful situation</td>\n",
       "      <td>-0.0516</td>\n",
       "      <td>0</td>\n",
       "    </tr>\n",
       "    <tr>\n",
       "      <th>13977</th>\n",
       "      <td>@AmericanAir I tried that. They won't book us with another airline. I wish I had flown with you! We are now stuck in FL til Weds.</td>\n",
       "      <td>0.1779</td>\n",
       "      <td>0</td>\n",
       "    </tr>\n",
       "    <tr>\n",
       "      <th>14070</th>\n",
       "      <td>@AmericanAir I ended up on a flight to LA my fourth time on standby. Thanks! http://t.co/NA5G5EAKPA</td>\n",
       "      <td>0.4404</td>\n",
       "      <td>1</td>\n",
       "    </tr>\n",
       "    <tr>\n",
       "      <th>14076</th>\n",
       "      <td>@AmericanAir thanks for the show! 👍</td>\n",
       "      <td>0.4404</td>\n",
       "      <td>1</td>\n",
       "    </tr>\n",
       "    <tr>\n",
       "      <th>14078</th>\n",
       "      <td>@AmericanAir no worries even though I was talking about seat assignment :)</td>\n",
       "      <td>-0.6124</td>\n",
       "      <td>-3</td>\n",
       "    </tr>\n",
       "    <tr>\n",
       "      <th>14104</th>\n",
       "      <td>@AmericanAir DONE!! thank you so much!!</td>\n",
       "      <td>0.3612</td>\n",
       "      <td>1</td>\n",
       "    </tr>\n",
       "    <tr>\n",
       "      <th>14111</th>\n",
       "      <td>@AmericanAir everything's good now brothaaaaaa</td>\n",
       "      <td>0.4404</td>\n",
       "      <td>1</td>\n",
       "    </tr>\n",
       "    <tr>\n",
       "      <th>14236</th>\n",
       "      <td>@AmericanAir many trips coming up!  I will see you soon 😃</td>\n",
       "      <td>0.0000</td>\n",
       "      <td>0</td>\n",
       "    </tr>\n",
       "    <tr>\n",
       "      <th>14261</th>\n",
       "      <td>@AmericanAir shoutout to the agent on duty now @ Gate B1 #ABQ / outstanding customer service w delayed FLT 336 http://t.co/OoEJ4d4JoP</td>\n",
       "      <td>0.4767</td>\n",
       "      <td>0</td>\n",
       "    </tr>\n",
       "    <tr>\n",
       "      <th>14292</th>\n",
       "      <td>@AmericanAir Thank you! You will see me :)</td>\n",
       "      <td>0.3612</td>\n",
       "      <td>1</td>\n",
       "    </tr>\n",
       "    <tr>\n",
       "      <th>14297</th>\n",
       "      <td>@AmericanAir Haha I had a boarding pass for 12B, was boarding the plane and the gate agent told me to go to 41G. I'm here now. No worries.</td>\n",
       "      <td>-0.2500</td>\n",
       "      <td>-2</td>\n",
       "    </tr>\n",
       "    <tr>\n",
       "      <th>14336</th>\n",
       "      <td>@AmericanAir flights have been on time Late Flightly though!</td>\n",
       "      <td>0.0000</td>\n",
       "      <td>0</td>\n",
       "    </tr>\n",
       "    <tr>\n",
       "      <th>14360</th>\n",
       "      <td>@AmericanAir I would like to thank the customer service team for their response to my Cancelled Flightled flight but just offering to (cont)</td>\n",
       "      <td>0.2500</td>\n",
       "      <td>1</td>\n",
       "    </tr>\n",
       "    <tr>\n",
       "      <th>14382</th>\n",
       "      <td>@AmericanAir I'm flying with your competitor today, starts with an U and ends with D. I will never make that mistake again. #americanforlife</td>\n",
       "      <td>0.2584</td>\n",
       "      <td>-1</td>\n",
       "    </tr>\n",
       "    <tr>\n",
       "      <th>14529</th>\n",
       "      <td>@AmericanAir  Mad love http://t.co/4ojrSDWPkK NYC-</td>\n",
       "      <td>0.2500</td>\n",
       "      <td>1</td>\n",
       "    </tr>\n",
       "    <tr>\n",
       "      <th>14530</th>\n",
       "      <td>@AmericanAir thanks for forcing me to check -in my carry - on luggage. That is exactly why I spent extra money on \"travel size\" toiletries</td>\n",
       "      <td>0.4404</td>\n",
       "      <td>1</td>\n",
       "    </tr>\n",
       "    <tr>\n",
       "      <th>14547</th>\n",
       "      <td>Eliza &amp;amp; I cheated on u @AmericanAir with @AirTahitiNui &amp;amp; it was a lovely flight. But we'll be back! Lots!</td>\n",
       "      <td>0.0644</td>\n",
       "      <td>-1</td>\n",
       "    </tr>\n",
       "    <tr>\n",
       "      <th>14556</th>\n",
       "      <td>@AmericanAir Thank you.....you do the same!!</td>\n",
       "      <td>0.3612</td>\n",
       "      <td>1</td>\n",
       "    </tr>\n",
       "    <tr>\n",
       "      <th>14590</th>\n",
       "      <td>@AmericanAir thank you for quick responses.   #aa usually has fantastic customer service. That's why I was so shocked when it wasn't there</td>\n",
       "      <td>0.4782</td>\n",
       "      <td>0</td>\n",
       "    </tr>\n",
       "    <tr>\n",
       "      <th>14617</th>\n",
       "      <td>@AmericanAir DMing you now! Big thanks.</td>\n",
       "      <td>0.4404</td>\n",
       "      <td>1</td>\n",
       "    </tr>\n",
       "    <tr>\n",
       "      <th>14628</th>\n",
       "      <td>Thank you. “@AmericanAir: @jlhalldc Customer Relations will review your concerns and contact you back directly, John.”</td>\n",
       "      <td>0.3612</td>\n",
       "      <td>1</td>\n",
       "    </tr>\n",
       "    <tr>\n",
       "      <th>14630</th>\n",
       "      <td>@AmericanAir Thanks! He is.</td>\n",
       "      <td>0.4404</td>\n",
       "      <td>1</td>\n",
       "    </tr>\n",
       "    <tr>\n",
       "      <th>14635</th>\n",
       "      <td>@AmericanAir thank you we got on a different flight to Chicago.</td>\n",
       "      <td>0.3612</td>\n",
       "      <td>1</td>\n",
       "    </tr>\n",
       "  </tbody>\n",
       "</table>\n",
       "<p>1038 rows × 3 columns</p>\n",
       "</div>"
      ],
      "text/plain": [
       "                                                                                                                                                               text  \\\n",
       "1                                                                                          @VirginAmerica plus you've added commercials to the experience... tacky.   \n",
       "6                                                                                   @VirginAmerica yes, nearly every time I fly VX this “ear worm” won’t go away :)   \n",
       "8                                                                                                                   @virginamerica Well, I didn't…but NOW I DO! :-D   \n",
       "13                     @VirginAmerica @virginmedia I'm flying your #fabulous #Seductive skies again! U take all the #stress away from travel http://t.co/ahlXHhKiyn   \n",
       "14                                                                                                                                           @VirginAmerica Thanks!   \n",
       "18                                                                                                                                  I ❤️ flying @VirginAmerica. ☺️👍   \n",
       "40                                   @VirginAmerica View of downtown Los Angeles, the Hollywood Sign, and beyond that rain in the mountains! http://t.co/Dw5nf0ibtr   \n",
       "45                                                                                                    @VirginAmerica I'm #elevategold for a good reason: you rock!!   \n",
       "56                                                                                          @VirginAmerica you know it. Need it on my spotify stat #guiltypleasures   \n",
       "81                        @VirginAmerica I've applied more then once to be a member of the #inflight crew team...Im 100% interested. #flightattendant #dreampath -G   \n",
       "109                           @VirginAmerica has getaway deals through May, from $59 one-way. Lots of cool cities http://t.co/tZZJhuIbCH #CheapFlights #FareCompare   \n",
       "111                           @VirginAmerica has getaway deals through May, from $59 one-way. Lots of cool cities http://t.co/B2Xi4YG5T8 #CheapFlights #FareCompare   \n",
       "114                              @VirginAmerica come back to #PHL already. We need you to take us out of this horrible cold. #pleasecomeback http://t.co/gLXFwP6nQH   \n",
       "136                                                      @virginamerica you ROCK for making it so I can watch #Oscars on my flight!! #redcarpet #oscars #oscars2015   \n",
       "148                                            @virginamerica #flight home to #dc #sunset #globe in' #backtowinter back to #work! #refreshed http://t.co/VX9vBCTdLf   \n",
       "176                                                                                                                         @VirginAmerica Thank you for the follow   \n",
       "183                     😎 RT @VirginAmerica: You’ve met your match. Got status on another airline? Upgrade (+restr): http://t.co/RHKaMx9VF5. http://t.co/PYalebgkJt   \n",
       "184                                                                                                                  @VirginAmerica Only way to fly! #Elevate #Gold   \n",
       "189                                                                                                @VirginAmerica you will match my #AmericanAirlines status? Cool!   \n",
       "193                                                                                                                                          @VirginAmerica thanks!   \n",
       "201                                                                @VirginAmerica done! Thank you for the quick response, apparently faster than sitting on hold ;)   \n",
       "203                                                    @VirginAmerica cool picture of another VirginAmerica plane off our wing. What a site! http://t.co/5B2agFd8c4   \n",
       "205                        @VirginAmerica my goodness your people @love field are amazing under pressure ❤️from Texas #beatstheothers in crisis Please fly me to NY   \n",
       "212                                                                            @VirginAmerica twitter team. you guys killed it for rescheduling me asap. thank you!   \n",
       "227                                                                                                                      @VirginAmerica Like http://t.co/VPqEm31XUQ   \n",
       "231                                                                                                                                  @VirginAmerica thanks so much!   \n",
       "233                       @VirginAmerica, the only airline based in Silicon Valley! #disruption #FCmostinnovative #incubator  @FastCompany's http://t.co/wU3LbCNcr9   \n",
       "235                            @VirginAmerica I’m looking forward to watching the Oscars on my flight home tomorrow. I might even get something bubbly to drink! ;)   \n",
       "269                                                                                                                      @VirginAmerica I see what you did there ;)   \n",
       "273                          @VirginAmerica cutest salt and pepper shaker ever. Just when I think you guys can't get any better you just do! http://t.co/vC6Keulg2J   \n",
       "...                                                                                                                                                             ...   \n",
       "13785                                                                                                                @AmericanAir Got my bags this morning! Thanks!   \n",
       "13805                                      @AmericanAir we made it so no worries... You guys did good tonight and even put @ESPN_CoachMack on my flight #firstclass   \n",
       "13827  @AmericanAir You have a lot on your pLate Flight dealing with Cancelled Flightlations and weather tonite. Those are more important. I know you will respond.   \n",
       "13855                                       @AmericanAir Didn't really need anything. Saw your mentions are often negative. Keep up the good work. #gratitude  🇺🇸✈️   \n",
       "13856                                                                                          @AmericanAir #AmericanView Sweet Home Chicago http://t.co/J6icLV8DTs   \n",
       "13942                                                                                                                        @AmericanAir thank you for the update!   \n",
       "13962                  @AmericanAir Shout-out to all the ground crews working in the cold! Thanks for what y'all do. (&amp; social media team for customer service)   \n",
       "13963                        @AmericanAir I fortunately was not on that flight - just in the same waiting area / impressed w how he handled the stressful situation   \n",
       "13977                             @AmericanAir I tried that. They won't book us with another airline. I wish I had flown with you! We are now stuck in FL til Weds.   \n",
       "14070                                                           @AmericanAir I ended up on a flight to LA my fourth time on standby. Thanks! http://t.co/NA5G5EAKPA   \n",
       "14076                                                                                                                           @AmericanAir thanks for the show! 👍   \n",
       "14078                                                                                    @AmericanAir no worries even though I was talking about seat assignment :)   \n",
       "14104                                                                                                                       @AmericanAir DONE!! thank you so much!!   \n",
       "14111                                                                                                                @AmericanAir everything's good now brothaaaaaa   \n",
       "14236                                                                                                     @AmericanAir many trips coming up!  I will see you soon 😃   \n",
       "14261                         @AmericanAir shoutout to the agent on duty now @ Gate B1 #ABQ / outstanding customer service w delayed FLT 336 http://t.co/OoEJ4d4JoP   \n",
       "14292                                                                                                                    @AmericanAir Thank you! You will see me :)   \n",
       "14297                    @AmericanAir Haha I had a boarding pass for 12B, was boarding the plane and the gate agent told me to go to 41G. I'm here now. No worries.   \n",
       "14336                                                                                                  @AmericanAir flights have been on time Late Flightly though!   \n",
       "14360                  @AmericanAir I would like to thank the customer service team for their response to my Cancelled Flightled flight but just offering to (cont)   \n",
       "14382                  @AmericanAir I'm flying with your competitor today, starts with an U and ends with D. I will never make that mistake again. #americanforlife   \n",
       "14529                                                                                                            @AmericanAir  Mad love http://t.co/4ojrSDWPkK NYC-   \n",
       "14530                    @AmericanAir thanks for forcing me to check -in my carry - on luggage. That is exactly why I spent extra money on \"travel size\" toiletries   \n",
       "14547                                             Eliza &amp; I cheated on u @AmericanAir with @AirTahitiNui &amp; it was a lovely flight. But we'll be back! Lots!   \n",
       "14556                                                                                                                  @AmericanAir Thank you.....you do the same!!   \n",
       "14590                    @AmericanAir thank you for quick responses.   #aa usually has fantastic customer service. That's why I was so shocked when it wasn't there   \n",
       "14617                                                                                                                       @AmericanAir DMing you now! Big thanks.   \n",
       "14628                                        Thank you. “@AmericanAir: @jlhalldc Customer Relations will review your concerns and contact you back directly, John.”   \n",
       "14630                                                                                                                                   @AmericanAir Thanks! He is.   \n",
       "14635                                                                                               @AmericanAir thank you we got on a different flight to Chicago.   \n",
       "\n",
       "       vader_comp  ss_comp  \n",
       "1          0.0000        0  \n",
       "6          0.4019        0  \n",
       "8          0.2732        1  \n",
       "13         0.1531        1  \n",
       "14         0.4404        1  \n",
       "18         0.0000        0  \n",
       "40         0.0000        0  \n",
       "45         0.4404        1  \n",
       "56         0.0000       -3  \n",
       "81         0.4019        1  \n",
       "109        0.3182        1  \n",
       "111        0.3182        1  \n",
       "114       -0.6280       -2  \n",
       "136        0.0000        1  \n",
       "148        0.0000        0  \n",
       "176        0.3612        1  \n",
       "183        0.0000        0  \n",
       "184        0.0000        0  \n",
       "189        0.3182        1  \n",
       "193        0.4404        1  \n",
       "201        0.3612        1  \n",
       "203        0.3182        1  \n",
       "205        0.4215        1  \n",
       "212       -0.4588       -2  \n",
       "227        0.3612        1  \n",
       "231        0.4404        1  \n",
       "233       -0.3612        0  \n",
       "235        0.0000        0  \n",
       "269        0.0000        0  \n",
       "273        0.3387        0  \n",
       "...           ...      ...  \n",
       "13785      0.4404        1  \n",
       "13805     -0.4669       -3  \n",
       "13827      0.0240        0  \n",
       "13855      0.3612        1  \n",
       "13856      0.4588        1  \n",
       "13942      0.3612        1  \n",
       "13962      0.4404        1  \n",
       "13963     -0.0516        0  \n",
       "13977      0.1779        0  \n",
       "14070      0.4404        1  \n",
       "14076      0.4404        1  \n",
       "14078     -0.6124       -3  \n",
       "14104      0.3612        1  \n",
       "14111      0.4404        1  \n",
       "14236      0.0000        0  \n",
       "14261      0.4767        0  \n",
       "14292      0.3612        1  \n",
       "14297     -0.2500       -2  \n",
       "14336      0.0000        0  \n",
       "14360      0.2500        1  \n",
       "14382      0.2584       -1  \n",
       "14529      0.2500        1  \n",
       "14530      0.4404        1  \n",
       "14547      0.0644       -1  \n",
       "14556      0.3612        1  \n",
       "14590      0.4782        0  \n",
       "14617      0.4404        1  \n",
       "14628      0.3612        1  \n",
       "14630      0.4404        1  \n",
       "14635      0.3612        1  \n",
       "\n",
       "[1038 rows x 3 columns]"
      ]
     },
     "execution_count": 32,
     "metadata": {},
     "output_type": "execute_result"
    }
   ],
   "source": [
    "pd.set_option('max_colwidth', 800)\n",
    "#dataframe where airline_sentiment doesn't equal vader sentiment doesn't equal sentistrength\n",
    "#airline positive but not calculated to be positive\n",
    "investigate_positive= tweets[(tweets['airline_sentiment']=='positive') & (tweets['vader_comp']<.55) & (tweets['ss_comp']<=1)]\n",
    "investigate_positive[['text','vader_comp','ss_comp']]\n",
    "    "
   ]
  },
  {
   "cell_type": "markdown",
   "metadata": {},
   "source": [
    "# Data Preprocessing for Topic Modeling"
   ]
  },
  {
   "cell_type": "code",
   "execution_count": 33,
   "metadata": {
    "collapsed": true
   },
   "outputs": [],
   "source": [
    "#Stopwords\n",
    "\n",
    "def remove_stopwords(text, is_lower_case=False):\n",
    "    tokens = tokenizer.tokenize(text)\n",
    "    tokens = [token.strip() for token in tokens]\n",
    "    if is_lower_case:\n",
    "        filtered_tokens = [token for token in tokens if token not in stopword_list]\n",
    "    else:\n",
    "        filtered_tokens = [token for token in tokens if token.lower() not in stopword_list]\n",
    "    filtered_text = ' '.join(filtered_tokens)    \n",
    "    return filtered_text\n",
    "\n",
    "for i in range(0,len(tweet_dictionary)):\n",
    "    tweet_dictionary[i]=remove_stopwords(tweet_dictionary[i])\n",
    "\n",
    "\n",
    "#Create corupus of all words\n",
    "words_corpus = []\n",
    "for i in range(0,len(tweet_dictionary)):\n",
    "        words_corpus.append([word for word in tweet_dictionary[i].lower().split() if len(word)>3])\n",
    "\n",
    "dictionary = corpora.Dictionary(words_corpus)\n",
    "dictionary.filter_extremes(no_below=15, no_above=0.5, keep_n=100000)\n",
    "\n",
    "corpus_bow = [dictionary.doc2bow(text) for text in words_corpus]\n",
    "\n",
    "#Term Frequency - Inverse Document Frequency\n",
    "\n",
    "from gensim import corpora, models\n",
    "tfidf = models.TfidfModel(corpus_bow)\n",
    "corpus_tfidf = tfidf[corpus_bow]"
   ]
  },
  {
   "cell_type": "markdown",
   "metadata": {},
   "source": [
    "# Topic Modeling"
   ]
  },
  {
   "cell_type": "markdown",
   "metadata": {},
   "source": [
    "Topic modeling using TF-IDF"
   ]
  },
  {
   "cell_type": "code",
   "execution_count": 38,
   "metadata": {},
   "outputs": [
    {
     "name": "stdout",
     "output_type": "stream",
     "text": [
      "Topic: 0 Word: 0.023*\"thanks\" + 0.021*\"flight\" + 0.011*\"hold\" + 0.010*\"time\" + 0.009*\"hours\" + 0.007*\"help\" + 0.007*\"delayed\" + 0.007*\"cancelled\" + 0.006*\"great\" + 0.006*\"still\"\n",
      "Topic: 1 Word: 0.015*\"flight\" + 0.008*\"flights\" + 0.008*\"like\" + 0.008*\"plane\" + 0.007*\"back\" + 0.007*\"need\" + 0.007*\"today\" + 0.007*\"flying\" + 0.007*\"help\" + 0.007*\"cancelled\"\n",
      "Topic: 2 Word: 0.016*\"thank\" + 0.015*\"flight\" + 0.012*\"service\" + 0.011*\"please\" + 0.009*\"cancelled\" + 0.008*\"customer\" + 0.008*\"help\" + 0.007*\"waiting\" + 0.007*\"plane\" + 0.006*\"jetblue\"\n"
     ]
    }
   ],
   "source": [
    "#Only 3 topics this time for simplicity\n",
    "num_topics = 3\n",
    "lda_model_tfidf = models.LdaMulticore(corpus_tfidf, num_topics=num_topics, id2word=dictionary, passes=2, workers=4)\n",
    "for idx, topic in lda_model_tfidf.print_topics(-1):\n",
    "    print('Topic: {} Word: {}'.format(idx, topic))"
   ]
  },
  {
   "cell_type": "code",
   "execution_count": 39,
   "metadata": {},
   "outputs": [],
   "source": [
    "#assign the hightest scoring topic to each tweet\n",
    "for i in tweets.index:\n",
    "    tweets.at[i,'topic']=sorted(lda_model_tfidf[corpus_bow[i]], key=lambda tup: -1*tup[1])[0][0]"
   ]
  },
  {
   "cell_type": "code",
   "execution_count": 40,
   "metadata": {
    "collapsed": true
   },
   "outputs": [],
   "source": [
    "#plot the sentiment distribution of tweets by topics\n",
    "def make_chart(positve, negative, neutral,source):\n",
    "    # Pie chart\n",
    "    labels = ['postive','negative','neutral']\n",
    "    sizes = [positve, negative, neutral]\n",
    "    colors = ['#99ff99','#ff9999','#66b3ff']\n",
    "    explode = (0.05,0.05,0.05)\n",
    "    plt.pie(sizes, colors = colors, labels=labels, autopct='%1.1f%%', startangle=80, pctdistance=.9, explode = explode,textprops={'fontsize': 12})\n",
    "    #draw circle\n",
    "    centre_circle = plt.Circle((0,0),0.55,fc='white')\n",
    "    fig = plt.gcf()\n",
    "    fig.gca().add_artist(centre_circle)\n",
    "    # Equal aspect ratio ensures that pie is drawn as a circle\n",
    "    plt.title('Sentiment Distribution for Topic '+str(source), size = 20)\n",
    "    plt.axis('equal')  \n",
    "\n"
   ]
  },
  {
   "cell_type": "code",
   "execution_count": 41,
   "metadata": {},
   "outputs": [
    {
     "data": {
      "image/png": "[encoded data removed]",
      "text/plain": [
       "<matplotlib.figure.Figure at 0x11e49f438>"
      ]
     },
     "metadata": {},
     "output_type": "display_data"
    }
   ],
   "source": [
    "#Some topics are more positive / negative than others\n",
    "topic=list(range(0,num_topics))\n",
    "plt.figure(figsize=(20, 8))\n",
    "\n",
    "for i in topic:\n",
    "    plt.subplot(1, num_topics, i+1)\n",
    "    topic_tweets=tweets[tweets['topic']==i]\n",
    "    num_pos= len(topic_tweets[topic_tweets['airline_sentiment']=='positive'])\n",
    "    num_neg= len(topic_tweets[topic_tweets['airline_sentiment']=='negative'])\n",
    "    num_neu= len(topic_tweets[topic_tweets['airline_sentiment']=='neutral'])\n",
    "    \n",
    "    make_chart(num_pos,num_neg,num_neu,i)\n",
    "  \n",
    "\n",
    "\n",
    "plt.show()"
   ]
  },
  {
   "cell_type": "code",
   "execution_count": null,
   "metadata": {
    "collapsed": true
   },
   "outputs": [],
   "source": []
  }
 ],
 "metadata": {
  "kernelspec": {
   "display_name": "Python 3",
   "language": "python",
   "name": "python3"
  },
  "language_info": {
   "codemirror_mode": {
    "name": "ipython",
    "version": 3
   },
   "file_extension": ".py",
   "mimetype": "text/x-python",
   "name": "python",
   "nbconvert_exporter": "python",
   "pygments_lexer": "ipython3",
   "version": "3.6.3"
  }
 },
 "nbformat": 4,
 "nbformat_minor": 2
}
